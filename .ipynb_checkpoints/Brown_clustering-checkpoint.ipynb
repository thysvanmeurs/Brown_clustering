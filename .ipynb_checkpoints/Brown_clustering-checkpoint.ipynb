{
 "cells": [
  {
   "cell_type": "code",
   "execution_count": 30,
   "id": "ad01d091",
   "metadata": {},
   "outputs": [],
   "source": [
    "import numpy as np\n",
    "import pandas as pd\n",
    "\n",
    "# TEST REGEL"
   ]
  },
  {
   "cell_type": "code",
   "execution_count": 31,
   "id": "f9f66d3d",
   "metadata": {},
   "outputs": [],
   "source": [
    "data = 'the cat saw the dog'\n",
    "max_clusters = 3"
   ]
  },
  {
   "cell_type": "markdown",
   "id": "452ad5e0",
   "metadata": {},
   "source": [
    "## Initialization"
   ]
  },
  {
   "cell_type": "code",
   "execution_count": 32,
   "id": "f50b1566",
   "metadata": {},
   "outputs": [
    {
     "name": "stdout",
     "output_type": "stream",
     "text": [
      "['cat' 'dog' 'saw' 'the']\n",
      "eerste\n",
      "0.3218875824868201\n",
      "{'cat': 1, 'dog': 2, 'saw': 3, 'the': 4, 'START': 0}\n",
      "{1: ['cat'], 2: ['dog'], 3: ['saw'], 4: ['the'], 0: ['START']}\n",
      "{1: ['cat'], 2: ['dog'], 3: ['saw'], 4: ['the'], 0: ['START']}\n",
      "{1: ['cat'], 2: ['dog'], 3: ['saw'], 4: ['the'], 0: ['START']}\n"
     ]
    }
   ],
   "source": [
    "class cluster:\n",
    "    def __init__(self, text):\n",
    "        self.data = text.split()\n",
    "        self.vocabulary = self.CreateVocabulary()\n",
    "        \n",
    "        \n",
    "        self.clusterPerWord = self.InitializeClusters()\n",
    "        self.wordsPerCluster = self.WordsPerCluster()\n",
    "        \n",
    "        self.cluster_list = self.ClusterList()\n",
    "        self.no_cluster = self.cluster_list.size\n",
    "    \n",
    "    #The list of all cluster names (keys)\n",
    "    def ClusterList(self):\n",
    "        tmp = np.array(list(self.wordsPerCluster.keys()))\n",
    "        self.no_cluster = tmp.size\n",
    "        self.cluster_list = tmp\n",
    "        return tmp\n",
    "\n",
    "    \n",
    "    # Vocabulary V\n",
    "    def CreateVocabulary(self):\n",
    "        self.vocabulary = np.unique(self.data)\n",
    "        print(self.vocabulary)\n",
    "        return self.vocabulary\n",
    "\n",
    "    # Initiate the clusters (i.e. all words own cluster)\n",
    "    # The cluster is a dict {word: cluster}\n",
    "    def InitializeClusters(self):\n",
    "        V = self.vocabulary.tolist()\n",
    "        C = {v: V.index(v)+1 for v in V}\n",
    "        C['START'] = 0\n",
    "        return C\n",
    "    \n",
    "    # returns the size of the cluster to which wi belongs\n",
    "    def n_wi(self, wi):\n",
    "        ci = self.clusterPerWord[wi]\n",
    "        C_values = list(self.clusterPerWord.values())\n",
    "        return pd.Series(C_values).value_counts()[ci] \n",
    "\n",
    "    # no. times wi and wj are next to each other in the text\n",
    "    def p_ci_cj(self, wi, wj):\n",
    "        ci = self.clusterPerWord[wi]\n",
    "        cj = self.clusterPerWord[wj]\n",
    "        prev_word = 'START'\n",
    "        count = 0\n",
    "        for word in self.data:\n",
    "            if self.clusterPerWord[word] == ci and self.clusterPerWord[prev_word] == cj:\n",
    "                count += 1\n",
    "            prev_word = word\n",
    "        return count\n",
    "\n",
    "\n",
    "    # measures how well clust distribution C, fits the sentence/text s\n",
    "    def Quality(self):\n",
    "        n_ = len(self.data)\n",
    "        temp = 0\n",
    "        for i in range(n_):\n",
    "            wi = self.data[i]# wi: current word\n",
    "            if i == 0:\n",
    "                wj = 'START'\n",
    "            else:\n",
    "                wj = self.data[i-1] # wj: previous word\n",
    "\n",
    "            temp_n =  self.p_ci_cj(wi, wj)/n_\n",
    "            temp_m = (temp_n * n_) / (self.n_wi(wi) * self.n_wi(wj))\n",
    "            temp += temp_n*np.log(temp_m)\n",
    "\n",
    "            p_c = self.n_wi(wi)/n_\n",
    "            p_c_prime = self.n_wi(wj)/n_\n",
    "            temp_new = temp_n * np.log(temp_n/(p_c*p_c_prime))\n",
    "        return temp_new\n",
    "    \n",
    "    # Calculates which words belong to what clusters. Returns a dict {cluster: words}\n",
    "    def WordsPerCluster(self):\n",
    "        C = self.clusterPerWord\n",
    "        C_new = dict()\n",
    "        for k,v in C.items():\n",
    "            if v in C_new:\n",
    "                C_new[v].append(k)\n",
    "            else:\n",
    "                C_new[v] = [k]\n",
    "        self.wordsPerCluster = C_new\n",
    "        return C_new\n",
    "    \n",
    "    def ClusterPerWord(self):\n",
    "        C = self.wordsPerCluster\n",
    "        c_tmp = {}\n",
    "        for cluster, word in C.items():\n",
    "            for i in word:\n",
    "                c_tmp[i] = cluster\n",
    "        self.clusterPerWord = c_tmp\n",
    "        \n",
    "    \n",
    "    # Change one cluster to the other\n",
    "    def ChangeCluster(self, cluster_from, cluster_to):\n",
    "        cluster_from_values = self.wordsPerCluster[cluster_from]\n",
    "        cluster_to_values = self.wordsPerCluster[cluster_to]\n",
    "        new_values = np.ravel(cluster_from_values + cluster_to_values).tolist()\n",
    "        \n",
    "        self.wordsPerCluster.pop(cluster_from)\n",
    "        self.wordsPerCluster.pop(cluster_to)\n",
    "        \n",
    "        \n",
    "        self.wordsPerCluster[cluster_to] = new_values\n",
    "        self.ClusterPerWord()\n",
    "        self.WordsPerCluster()\n",
    "        self.ClusterList()\n",
    "        return\n",
    "        \n",
    "\n",
    "\n",
    "c = cluster(data)\n",
    "print(\"eerste\")\n",
    "print(c.Quality())\n",
    "print(c.clusterPerWord)\n",
    "print(c.wordsPerCluster)\n",
    "print(c.WordsPerCluster())\n",
    "print(c.wordsPerCluster)\n",
    "c.Quality()\n",
    "c.ClusterPerWord()\n"
   ]
  },
  {
   "cell_type": "markdown",
   "id": "301bd992",
   "metadata": {},
   "source": [
    "## Make perfect clusters\n",
    "Naively, brute force"
   ]
  },
  {
   "cell_type": "code",
   "execution_count": 37,
   "id": "3fcf8873",
   "metadata": {},
   "outputs": [
    {
     "name": "stdout",
     "output_type": "stream",
     "text": [
      "['and' 'are' 'by' 'cat' 'dog' 'man' 'owned' 'saw' 'the']\n",
      "11 10\n",
      "<class 'numpy.ndarray'>\n",
      "New clusters: {1: ['and'], 2: ['are'], 3: ['by'], 4: ['cat'], 7: ['owned'], 8: ['saw'], 9: ['the'], 0: ['START'], 6: ['dog', 'man']} - score: 0.94\n",
      "<class 'numpy.ndarray'>\n",
      "New clusters: {1: ['and'], 2: ['are'], 3: ['by'], 7: ['owned'], 8: ['saw'], 9: ['the'], 0: ['START'], 6: ['cat', 'dog', 'man']} - score: 1.3\n",
      "<class 'numpy.ndarray'>\n",
      "New clusters: {3: ['by'], 7: ['owned'], 8: ['saw'], 9: ['the'], 0: ['START'], 6: ['cat', 'dog', 'man'], 2: ['and', 'are']} - score: 1.3\n",
      "<class 'numpy.ndarray'>\n",
      "New clusters: {8: ['saw'], 9: ['the'], 0: ['START'], 6: ['cat', 'dog', 'man'], 2: ['and', 'are'], 7: ['by', 'owned']} - score: 1.3\n",
      "<class 'numpy.ndarray'>\n",
      "New clusters: {9: ['the'], 6: ['cat', 'dog', 'man'], 2: ['and', 'are'], 7: ['by', 'owned'], 0: ['saw', 'START']} - score: 1.3\n",
      "<class 'numpy.ndarray'>\n",
      "New clusters: {9: ['the'], 6: ['cat', 'dog', 'man'], 0: ['saw', 'START'], 7: ['and', 'are', 'by', 'owned']} - score: 1.3\n",
      "<class 'numpy.ndarray'>\n",
      "New clusters: {9: ['the'], 6: ['cat', 'dog', 'man'], 7: ['saw', 'START', 'and', 'are', 'by', 'owned']} - score: 1.3\n",
      "Best cluster: {9: ['the'], 6: ['cat', 'dog', 'man'], 7: ['saw', 'START', 'and', 'are', 'by', 'owned']}\n",
      "19.36592125892639\n"
     ]
    }
   ],
   "source": [
    "import copy\n",
    "import time\n",
    "data = \"the dog saw the cat and the dog saw the man the dog and the cat are owned by the man\"\n",
    "\n",
    "best_cluster = cluster(data)\n",
    "max_clusters = 3\n",
    "prev_no_cluster = best_cluster.no_cluster + 1\n",
    "\n",
    "count_iter = 0\n",
    "current_clusters = best_cluster.no_cluster\n",
    "\n",
    "print(prev_no_cluster, current_clusters)\n",
    "T = time.time()\n",
    "while current_clusters > max_clusters:\n",
    "    tmp_cluster = copy.deepcopy(best_cluster)\n",
    "    current_cluster_list = best_cluster.cluster_list\n",
    "    iter_best = 0\n",
    "    print(type(current_cluster_list))\n",
    "    for from_c in current_cluster_list:\n",
    "        for to_c in current_cluster_list:\n",
    "            if (from_c != to_c):\n",
    "                current_cluster = copy.deepcopy(tmp_cluster)\n",
    "                current_cluster.ChangeCluster(from_c, to_c)\n",
    "                if current_cluster.Quality() > iter_best:\n",
    "                    best_cluster = current_cluster\n",
    "                    iter_best = current_cluster.Quality()\n",
    "               \n",
    "    best_cluster.ClusterList()\n",
    "    count_iter += 1\n",
    "    \n",
    "    prev_no_cluster = current_clusters\n",
    "    current_clusters = best_cluster.no_cluster\n",
    "    print(f\"New clusters: {best_cluster.wordsPerCluster} - score: {round(best_cluster.Quality(),2)}\" )\n",
    "        \n",
    "\n",
    "print(f\"Best cluster: {best_cluster.wordsPerCluster}\")\n",
    "print(time.time() - T)\n",
    "# c.Quality()\n",
    "# c.ChangeCluster(1,2)\n",
    "# c.Quality()\n",
    "# print(c.wordsPerCluster)\n",
    "\n",
    "# c.ChangeCluster(2,3)\n",
    "# c.Quality()\n",
    "# print(c.wordsPerCluster)\n",
    "\n"
   ]
  },
  {
   "cell_type": "code",
   "execution_count": 279,
   "id": "4de5a078",
   "metadata": {},
   "outputs": [
    {
     "data": {
      "text/plain": [
       "{3: ['saw'], 4: ['the'], 0: ['START'], 2: ['cat', 'dog']}"
      ]
     },
     "execution_count": 279,
     "metadata": {},
     "output_type": "execute_result"
    }
   ],
   "source": [
    "best_cluster.wordsPerCluster"
   ]
  },
  {
   "cell_type": "code",
   "execution_count": 161,
   "id": "03e68b05",
   "metadata": {},
   "outputs": [
    {
     "ename": "NameError",
     "evalue": "name 'C' is not defined",
     "output_type": "error",
     "traceback": [
      "\u001b[1;31m---------------------------------------------------------------------------\u001b[0m",
      "\u001b[1;31mNameError\u001b[0m                                 Traceback (most recent call last)",
      "\u001b[1;32m<ipython-input-161-53df051e860d>\u001b[0m in \u001b[0;36m<module>\u001b[1;34m\u001b[0m\n\u001b[0;32m     39\u001b[0m \u001b[1;33m\u001b[0m\u001b[0m\n\u001b[0;32m     40\u001b[0m \u001b[0ms\u001b[0m \u001b[1;33m=\u001b[0m \u001b[1;34m'the dog saw the cat'\u001b[0m\u001b[1;33m\u001b[0m\u001b[1;33m\u001b[0m\u001b[0m\n\u001b[1;32m---> 41\u001b[1;33m \u001b[0mQuality_new\u001b[0m\u001b[1;33m(\u001b[0m\u001b[0mC\u001b[0m\u001b[1;33m,\u001b[0m \u001b[0ms\u001b[0m\u001b[1;33m.\u001b[0m\u001b[0msplit\u001b[0m\u001b[1;33m(\u001b[0m\u001b[1;33m)\u001b[0m\u001b[1;33m)\u001b[0m\u001b[1;33m\u001b[0m\u001b[1;33m\u001b[0m\u001b[0m\n\u001b[0m\u001b[0;32m     42\u001b[0m \u001b[1;33m\u001b[0m\u001b[0m\n\u001b[0;32m     43\u001b[0m \u001b[1;33m\u001b[0m\u001b[0m\n",
      "\u001b[1;31mNameError\u001b[0m: name 'C' is not defined"
     ]
    }
   ],
   "source": [
    "# returns the size of the cluster to which wi belongs\n",
    "def n_wi(wi, C_):\n",
    "    ci = C_[wi]\n",
    "    C_values = list(C_.values())\n",
    "    return pd.Series(C_values).value_counts()[ci] \n",
    "\n",
    "# no. times wi and wj are next to each other in the text\n",
    "def p_ci_cj(wi, wj, sentence, C_):\n",
    "    ci = C_[wi]\n",
    "    cj = C_[wj]\n",
    "    prev_word = 'START'\n",
    "    count = 0\n",
    "    for word in sentence:\n",
    "        if C_[word] == ci and C_[prev_word] == cj:\n",
    "            count += 1\n",
    "        prev_word = word\n",
    "    return count\n",
    "\n",
    "\n",
    "# measures how well clust distribution C, fits the sentence/text s\n",
    "def Quality_new(C_, text):\n",
    "    n_ = len(text)\n",
    "    temp = 0\n",
    "    for i in range(n_):\n",
    "        wi = text[i]# wi: current word\n",
    "        if i == 0:\n",
    "            wj = 'START'\n",
    "        else:\n",
    "            wj = text[i-1] # wj: previous word\n",
    "        \n",
    "        temp_n =  p_ci_cj(wi, wj, text, C_)/n_\n",
    "        temp_m = (temp_n * n_) / (n_wi(wi, C_) * n_wi(wj, C_))\n",
    "        temp += temp_n*np.log(temp_m)\n",
    "        \n",
    "        p_c = n_wi(wi, C_)/n_\n",
    "        p_c_prime = n_wi(wj, C_)/n_\n",
    "        temp_new = temp_n * np.log(temp_n/(p_c*p_c_prime))\n",
    "    return temp_new\n",
    "        \n",
    "s = 'the dog saw the cat'\n",
    "Quality_new(C, s.split())\n",
    "\n",
    "    "
   ]
  },
  {
   "cell_type": "code",
   "execution_count": null,
   "id": "397eb107",
   "metadata": {},
   "outputs": [],
   "source": [
    "C2 = C.copy()\n",
    "C2['cat'] = 2\n",
    "C['cat'] = 40\n",
    "print(f\"C2: {C2} \\n C: {C}\")\n",
    "\n",
    "s = 'the dog saw the cat'\n",
    "print(f\"C2: {Quality_new(C2, s.split())}\")\n",
    "print(f\"C: {Quality_new(C, s.split())}\")"
   ]
  },
  {
   "cell_type": "markdown",
   "id": "d35242b9",
   "metadata": {},
   "source": [
    "## Selecting iteratively the clusters until max clustersize k = x\n"
   ]
  },
  {
   "cell_type": "code",
   "execution_count": null,
   "id": "1ceb23d3",
   "metadata": {},
   "outputs": [],
   "source": [
    "# max cluster size k\n",
    "k = 4"
   ]
  },
  {
   "cell_type": "markdown",
   "id": "8f90900a",
   "metadata": {},
   "source": [
    "### Naively\n",
    "Greedily trying all possible combinations of clusters"
   ]
  },
  {
   "cell_type": "code",
   "execution_count": null,
   "id": "979845a9",
   "metadata": {},
   "outputs": [],
   "source": [
    "# Returns the maximum value of the cluster \n",
    "\n",
    "def GetClusters(C_):\n",
    "    C_values = C_.values()\n",
    "    return list(set(list(C_values)))\n",
    "\n",
    "\n",
    "clusters = GetClusters(C)\n",
    "\n",
    "for i in C.keys():\n",
    "    for j in C.keys():\n",
    "        C"
   ]
  }
 ],
 "metadata": {
  "kernelspec": {
   "display_name": "Python 3",
   "language": "python",
   "name": "python3"
  },
  "language_info": {
   "codemirror_mode": {
    "name": "ipython",
    "version": 3
   },
   "file_extension": ".py",
   "mimetype": "text/x-python",
   "name": "python",
   "nbconvert_exporter": "python",
   "pygments_lexer": "ipython3",
   "version": "3.8.8"
  }
 },
 "nbformat": 4,
 "nbformat_minor": 5
}
